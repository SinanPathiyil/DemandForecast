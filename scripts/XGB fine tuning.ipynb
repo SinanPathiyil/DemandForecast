{
 "cells": [
  {
   "cell_type": "code",
   "execution_count": 18,
   "id": "942011e9",
   "metadata": {},
   "outputs": [],
   "source": [
    "import pickle\n",
    "\n",
    "with open(\"../saved models/xgb_model.pkl\", \"rb\") as file:\n",
    "    xgb_model = pickle.load(file)"
   ]
  },
  {
   "cell_type": "code",
   "execution_count": 47,
   "id": "291cc5d4",
   "metadata": {},
   "outputs": [
    {
     "name": "stdout",
     "output_type": "stream",
     "text": [
      "✅ Model rebuilt and saved as xgb_model_refreshed.json\n"
     ]
    }
   ],
   "source": [
    "import pickle\n",
    "import xgboost as xgb\n",
    "from sklearn.preprocessing import LabelEncoder\n",
    "import pandas as pd\n",
    "\n",
    "df = pd.read_excel(\"../data/demand_prediction_weekly.xlsx\")\n",
    "\n",
    "# 1. Prepare your features\n",
    "encoder = LabelEncoder()\n",
    "df[\"Product_Code\"] = encoder.fit_transform(df[\"Product_Name\"])\n",
    "\n",
    "X_new = df[[\"Product_Code\", \"Year\", \"Week_Number\"]]\n",
    "y_new = df[\"Total_Quantity\"]\n",
    "\n",
    "dtrain = xgb.DMatrix(X_new, label=y_new)\n",
    "\n",
    "# 2. Define the parameters you recovered\n",
    "params = {\n",
    "    \"objective\": \"reg:squarederror\",\n",
    "    \"learning_rate\": 0.1,\n",
    "    \"max_depth\": 6,\n",
    "    \"subsample\": 0.8,\n",
    "    \"colsample_bytree\": 0.8,\n",
    "    \"seed\": 42,\n",
    "}\n",
    "\n",
    "# 3. Retrain a fresh model\n",
    "booster = xgb.train(\n",
    "    params=params,\n",
    "    dtrain=dtrain,\n",
    "    num_boost_round=100,\n",
    ")\n",
    "\n",
    "# 4. Save it cleanly in XGBoost’s native format\n",
    "booster.save_model(\"xgb_model_refreshed.json\")\n",
    "\n",
    "print(\"✅ Model rebuilt and saved as xgb_model_refreshed.json\")"
   ]
  },
  {
   "cell_type": "code",
   "execution_count": null,
   "id": "6b7410e9",
   "metadata": {},
   "outputs": [],
   "source": [
    "import xgboost as xgb\n",
    "import pandas as pd\n",
    "from sklearn.preprocessing import LabelEncoder\n",
    "import matplotlib.pyplot as plt\n",
    "import seaborn as sns\n",
    "\n",
    "# Load your model\n",
    "booster = xgb.Booster()\n",
    "booster.load_model(\"xgb_model_refreshed.json\")\n",
    "\n",
    "# Load the data\n",
    "df = pd.read_excel(\"../data/demand_prediction_weekly.xlsx\")\n",
    "\n",
    "# Encode product names again (must match training encoding)\n",
    "encoder = LabelEncoder()\n",
    "df[\"Product_Code\"] = encoder.fit_transform(df[\"Product_Name\"])\n",
    "\n",
    "# Prepare feature matrix\n",
    "X_pred = df[[\"Product_Code\", \"Year\", \"Week_Number\"]]\n",
    "dtest = xgb.DMatrix(X_pred)"
   ]
  }
 ],
 "metadata": {
  "kernelspec": {
   "display_name": "Python 3",
   "language": "python",
   "name": "python3"
  },
  "language_info": {
   "codemirror_mode": {
    "name": "ipython",
    "version": 3
   },
   "file_extension": ".py",
   "mimetype": "text/x-python",
   "name": "python",
   "nbconvert_exporter": "python",
   "pygments_lexer": "ipython3",
   "version": "3.10.0"
  }
 },
 "nbformat": 4,
 "nbformat_minor": 5
}
