{
 "cells": [
  {
   "cell_type": "code",
   "execution_count": 10,
   "id": "a94e4286",
   "metadata": {},
   "outputs": [],
   "source": [
    "import numpy as np\n",
    "import pandas as pd\n",
    "from tensorflow.keras.models import load_model\n",
    "import matplotlib.pyplot as plt\n",
    "\n",
    "# ===============================\n",
    "# 1️⃣ Load trained model and data\n",
    "# ===============================\n",
    "model = load_model('../saved models/best_lstm.keras')\n",
    "\n",
    "# Load the same dataset used for training\n",
    "file_path = \"../data/demand_prediction_weekly.xlsx\"\n",
    "sales_data = pd.read_excel(file_path)\n",
    "\n",
    "# Select the medicine\n",
    "selected_medicine = input(\"Enter the medicine name: \")"
   ]
  },
  {
   "cell_type": "code",
   "execution_count": 11,
   "id": "c05ada28",
   "metadata": {},
   "outputs": [],
   "source": [
    "# Filter for that medicine\n",
    "product_df = sales_data[sales_data['Product_Name'] == selected_medicine].copy()\n",
    "product_df = product_df.groupby('Week')['Total_Quantity'].sum().reset_index()\n",
    "\n",
    "# Sort by week\n",
    "product_df = product_df.sort_values(by='Week')\n",
    "\n",
    "# ===============================\n",
    "# 2️⃣ Prepare the last known data\n",
    "# ===============================\n",
    "from sklearn.preprocessing import MinMaxScaler\n",
    "\n",
    "scaler = MinMaxScaler()\n",
    "scaled_data = scaler.fit_transform(product_df[['Total_Quantity']])\n",
    "\n",
    "time_steps = 2  # must match your LSTM training setting\n",
    "\n",
    "# Take last `time_steps` values as input\n",
    "last_sequence = scaled_data[-time_steps:].reshape(1, time_steps, 1)\n"
   ]
  },
  {
   "cell_type": "code",
   "execution_count": 12,
   "id": "3e1a7cb5",
   "metadata": {},
   "outputs": [
    {
     "name": "stdout",
     "output_type": "stream",
     "text": [
      "\u001b[1m1/1\u001b[0m \u001b[32m━━━━━━━━━━━━━━━━━━━━\u001b[0m\u001b[37m\u001b[0m \u001b[1m0s\u001b[0m 265ms/step\n",
      "\u001b[1m1/1\u001b[0m \u001b[32m━━━━━━━━━━━━━━━━━━━━\u001b[0m\u001b[37m\u001b[0m \u001b[1m0s\u001b[0m 45ms/step\n",
      "\u001b[1m1/1\u001b[0m \u001b[32m━━━━━━━━━━━━━━━━━━━━\u001b[0m\u001b[37m\u001b[0m \u001b[1m0s\u001b[0m 43ms/step\n",
      "\u001b[1m1/1\u001b[0m \u001b[32m━━━━━━━━━━━━━━━━━━━━\u001b[0m\u001b[37m\u001b[0m \u001b[1m0s\u001b[0m 32ms/step\n",
      "\n",
      "📅 Next 3-Month Forecast:\n",
      "        Week Week Number  Predicted_Quantity\n",
      "0 2025-10-20    2025-W43                  30\n",
      "1 2025-10-27    2025-W44                  25\n",
      "2 2025-11-03    2025-W45                  23\n",
      "3 2025-11-10    2025-W46                  20\n"
     ]
    }
   ],
   "source": [
    "# ===============================\n",
    "# 3️⃣ Predict next 12 weeks (≈3 months)\n",
    "# ===============================\n",
    "\n",
    "no_weeks = 4\n",
    "\n",
    "\n",
    "future_predictions = []\n",
    "\n",
    "for i in range(no_weeks):  # 16 weeks\n",
    "    next_pred = model.predict(last_sequence)              # shape: (1, 1)\n",
    "    future_predictions.append(next_pred[0, 0])\n",
    "    \n",
    "    # Reshape next_pred correctly to (1, 1, 1)\n",
    "    next_pred_reshaped = np.reshape(next_pred, (1, 1, 1))\n",
    "    \n",
    "    # Slide window forward\n",
    "    last_sequence = np.concatenate((last_sequence[:, 1:, :], next_pred_reshaped), axis=1)\n",
    "\n",
    "\n",
    "# Inverse transform predictions\n",
    "future_predictions = scaler.inverse_transform(np.array(future_predictions).reshape(-1, 1))\n",
    "\n",
    "# ===============================\n",
    "# 4️⃣ Prepare future week labels\n",
    "# ===============================\n",
    "# Convert 'YYYY-Www' to actual date (Monday of that ISO week)\n",
    "last_week_str = product_df['Week'].iloc[-1]\n",
    "year, week = map(int, last_week_str.split('-W'))\n",
    "last_week = pd.to_datetime(f'{year}-W{week}-1', format='%G-W%V-%u')\n",
    "\n",
    "future_weeks = pd.date_range(start=last_week + pd.Timedelta(weeks=1), periods=no_weeks, freq='W-MON')\n",
    "\n",
    "\n",
    "# ===============================\n",
    "# 6️⃣ Display forecast results\n",
    "# ===============================\n",
    "future_weeks_iso = [f\"{d.isocalendar().year}-W{d.isocalendar().week:02d}\" for d in future_weeks]\n",
    "\n",
    "forecast_df = pd.DataFrame({\n",
    "    'Week': future_weeks,\n",
    "    'Week Number': future_weeks_iso,\n",
    "    'Predicted_Quantity': np.round(np.array(future_predictions).flatten()).astype(int)\n",
    "})\n",
    "\n",
    "print(\"\\n📅 Next 3-Month Forecast:\")\n",
    "print(forecast_df)\n"
   ]
  }
 ],
 "metadata": {
  "kernelspec": {
   "display_name": "Python 3",
   "language": "python",
   "name": "python3"
  },
  "language_info": {
   "codemirror_mode": {
    "name": "ipython",
    "version": 3
   },
   "file_extension": ".py",
   "mimetype": "text/x-python",
   "name": "python",
   "nbconvert_exporter": "python",
   "pygments_lexer": "ipython3",
   "version": "3.10.0"
  }
 },
 "nbformat": 4,
 "nbformat_minor": 5
}
